{
 "cells": [
  {
   "cell_type": "markdown",
   "id": "3929ae6b",
   "metadata": {},
   "source": [
    "# Basic Usage"
   ]
  },
  {
   "cell_type": "markdown",
   "id": "81a522af",
   "metadata": {},
   "source": [
    "This notebook demonstrates how to extract rhythmic segments from interval data and how to attach aggregate metadata using the utilities provided by the `rhythmic_segments` package."
   ]
  },
  {
   "cell_type": "code",
   "execution_count": 1,
   "id": "37b33d17",
   "metadata": {},
   "outputs": [],
   "source": [
    "import numpy as np\n",
    "import pandas as pd\n",
    "\n",
    "from rhythmic_segments import RhythmicSegments"
   ]
  },
  {
   "cell_type": "markdown",
   "id": "aaea7876",
   "metadata": {},
   "source": [
    "## Rhythmic Segment Analysis"
   ]
  },
  {
   "cell_type": "markdown",
   "id": "a4fd6ef9",
   "metadata": {},
   "source": [
    "A *rhythmic segment analysis (RSA)* analyzes every fixed-length *segment* of a sequence of time intervals: the short groups you obtain by sliding a window across the data. Each segment has a *duration* and a *pattern*. The pattern captures the relative durations of a segment's intervals, either as a normalized vector or as a ratio. For example, the segment $(2, 4, 4)$ has the pattern $(0.2, 0.4, 0.4)$ or $1 : 2 : 2$; both descriptions are interchangeable. Thinking of patterns as normalized vectors shows that all patterns of a given length live on a *simplex*: a line when $n = 2$, a triangle when $n = 3$, and so on. The goal is to study rhythmic material by analysing how its segments are distributed of that simplex.\n",
    "\n",
    "Computing patterns is as simple as normalising the segment:"
   ]
  },
  {
   "cell_type": "code",
   "execution_count": 2,
   "id": "e0307cae",
   "metadata": {},
   "outputs": [
    {
     "data": {
      "text/plain": [
       "array([0.2, 0.4, 0.4])"
      ]
     },
     "execution_count": 2,
     "metadata": {},
     "output_type": "execute_result"
    }
   ],
   "source": [
    "segment = np.array([2, 4, 4])\n",
    "pattern = segment / segment.sum()\n",
    "pattern"
   ]
  },
  {
   "cell_type": "markdown",
   "id": "3fd446dd",
   "metadata": {},
   "source": [
    "And so you can absolutely do a rhythmic segment analysis without using this package. This package however provides some utilities that make things easier. In particular, the `RhythmicSegments` class allows you to conveniently store large numbers of segments and handle associated metadata, and makes them accessible via `.segments`, `.patterns`, `.durations`, `.meta`:"
   ]
  },
  {
   "cell_type": "code",
   "execution_count": 3,
   "id": "6e50a134",
   "metadata": {},
   "outputs": [
    {
     "data": {
      "text/plain": [
       "array([[1., 2., 3.],\n",
       "       [2., 3., 4.],\n",
       "       [3., 4., 5.],\n",
       "       [4., 5., 6.],\n",
       "       [5., 6., 7.],\n",
       "       [6., 7., 8.],\n",
       "       [7., 8., 9.]], dtype=float32)"
      ]
     },
     "execution_count": 3,
     "metadata": {},
     "output_type": "execute_result"
    }
   ],
   "source": [
    "intervals = [1, 2, 3, 4, 5, 6, 7, 8, 9]\n",
    "rs = RhythmicSegments.from_intervals(intervals, length=3)\n",
    "rs.segments"
   ]
  },
  {
   "cell_type": "code",
   "execution_count": 4,
   "id": "494cea24",
   "metadata": {},
   "outputs": [
    {
     "data": {
      "text/plain": [
       "array([[0.16666667, 0.33333334, 0.5       ],\n",
       "       [0.22222222, 0.33333334, 0.44444445],\n",
       "       [0.25      , 0.33333334, 0.41666666],\n",
       "       [0.26666668, 0.33333334, 0.4       ],\n",
       "       [0.2777778 , 0.33333334, 0.3888889 ],\n",
       "       [0.2857143 , 0.33333334, 0.3809524 ],\n",
       "       [0.29166666, 0.33333334, 0.375     ]], dtype=float32)"
      ]
     },
     "execution_count": 4,
     "metadata": {},
     "output_type": "execute_result"
    }
   ],
   "source": [
    "rs.patterns"
   ]
  },
  {
   "cell_type": "markdown",
   "id": "35ba0a94",
   "metadata": {},
   "source": [
    "Often, interval data is composed of multiple blocks (e.g. bouts, songs, etc.) and segments should not cross block boundaries. `RhythmicSegments` will treat `np.nan` entries as block boundaries, unless `split_at_nan=False`."
   ]
  },
  {
   "cell_type": "code",
   "execution_count": 5,
   "id": "d00ef444",
   "metadata": {},
   "outputs": [
    {
     "data": {
      "text/plain": [
       "array([[1., 2.],\n",
       "       [2., 3.],\n",
       "       [3., 4.],\n",
       "       [5., 6.],\n",
       "       [7., 8.],\n",
       "       [8., 9.]], dtype=float32)"
      ]
     },
     "execution_count": 5,
     "metadata": {},
     "output_type": "execute_result"
    }
   ],
   "source": [
    "intervals = [1, 2, 3, 4, np.nan, 5, 6, np.nan, 7, 8, 9, np.nan]\n",
    "rs = RhythmicSegments.from_intervals(intervals, length=2)\n",
    "rs.segments "
   ]
  },
  {
   "cell_type": "markdown",
   "id": "227cb7c6",
   "metadata": {},
   "source": [
    "You can also construct `RhythmicSegments` directly from segments:"
   ]
  },
  {
   "cell_type": "code",
   "execution_count": 6,
   "id": "06bab68a",
   "metadata": {},
   "outputs": [
    {
     "data": {
      "text/plain": [
       "array([[0.2       , 0.8       ],\n",
       "       [0.33333334, 0.6666667 ],\n",
       "       [0.5       , 0.5       ]], dtype=float32)"
      ]
     },
     "execution_count": 6,
     "metadata": {},
     "output_type": "execute_result"
    }
   ],
   "source": [
    "segments = [[2, 8], [.3, .6], [1, 1]]\n",
    "rs = RhythmicSegments.from_segments(segments)\n",
    "rs.patterns"
   ]
  },
  {
   "cell_type": "markdown",
   "id": "5e0f51ab",
   "metadata": {},
   "source": [
    "## Metadata"
   ]
  },
  {
   "cell_type": "markdown",
   "id": "9beac542",
   "metadata": {},
   "source": [
    "`RhythmicSegments` really shines when you need to handle metadata. Suppose individual intervals carry annotations (for example, performer labels) and you want to derive segment-level metadata from them. You can supply an *aggregator* that receives the per-interval metadata for each segment and returns a dictionary describing the segment. Every key in that dictionary becomes a column in the resulting segment metadata.\n",
    "\n",
    "Below, the aggregator concatenates the labels of the intervals into a `label` field and records the first label separately in `first`:"
   ]
  },
  {
   "cell_type": "code",
   "execution_count": 15,
   "id": "26e8f5ce",
   "metadata": {},
   "outputs": [
    {
     "data": {
      "text/plain": [
       "{'label': 'a-b-c', 'first': 'a'}"
      ]
     },
     "execution_count": 15,
     "metadata": {},
     "output_type": "execute_result"
    }
   ],
   "source": [
    "def my_aggregator(interval_meta):\n",
    "    return {\n",
    "        \"label\": \"-\".join(interval_meta['label']), \n",
    "        \"first\": interval_meta.iloc[0]['label']\n",
    "    }\n",
    "\n",
    "interval_meta = pd.DataFrame([\"a\", \"b\", \"c\"], columns=[\"label\"])\n",
    "my_aggregator(interval_meta)"
   ]
  },
  {
   "cell_type": "markdown",
   "id": "8b5a2bb5",
   "metadata": {},
   "source": [
    "If you now pass both the metadata and the aggregator to `from_intervals`, you get segment-level metadata:"
   ]
  },
  {
   "cell_type": "code",
   "execution_count": 8,
   "id": "b008cba9",
   "metadata": {},
   "outputs": [
    {
     "data": {
      "text/html": [
       "<div>\n",
       "<style scoped>\n",
       "    .dataframe tbody tr th:only-of-type {\n",
       "        vertical-align: middle;\n",
       "    }\n",
       "\n",
       "    .dataframe tbody tr th {\n",
       "        vertical-align: top;\n",
       "    }\n",
       "\n",
       "    .dataframe thead th {\n",
       "        text-align: right;\n",
       "    }\n",
       "</style>\n",
       "<table border=\"1\" class=\"dataframe\">\n",
       "  <thead>\n",
       "    <tr style=\"text-align: right;\">\n",
       "      <th></th>\n",
       "      <th>label</th>\n",
       "      <th>first</th>\n",
       "    </tr>\n",
       "  </thead>\n",
       "  <tbody>\n",
       "    <tr>\n",
       "      <th>0</th>\n",
       "      <td>a-b-c</td>\n",
       "      <td>a</td>\n",
       "    </tr>\n",
       "    <tr>\n",
       "      <th>1</th>\n",
       "      <td>b-c-d</td>\n",
       "      <td>b</td>\n",
       "    </tr>\n",
       "    <tr>\n",
       "      <th>2</th>\n",
       "      <td>e-f-g</td>\n",
       "      <td>e</td>\n",
       "    </tr>\n",
       "  </tbody>\n",
       "</table>\n",
       "</div>"
      ],
      "text/plain": [
       "   label first\n",
       "0  a-b-c     a\n",
       "1  b-c-d     b\n",
       "2  e-f-g     e"
      ]
     },
     "execution_count": 8,
     "metadata": {},
     "output_type": "execute_result"
    }
   ],
   "source": [
    "intervals = [1, 2, 3, 4, np.nan, 5, 6, 7]\n",
    "meta = {\"label\": ['a', 'b', 'c', 'd', np.nan, 'e', 'f', 'g']}\n",
    "rs = RhythmicSegments.from_intervals(intervals, length=3, meta=meta, meta_aggregator=my_aggregator)\n",
    "rs.meta"
   ]
  },
  {
   "cell_type": "markdown",
   "id": "f6e931eb",
   "metadata": {},
   "source": [
    "Note that it respects block boundaries: segments do not cross the `np.nan` values."
   ]
  },
  {
   "cell_type": "markdown",
   "id": "eb7be41a",
   "metadata": {},
   "source": [
    "## Operations\n",
    "\n",
    "`RhythmicSegments` supports several convenience operations, such as selecting subsets, filtering, querying metadata, and shuffling. Each of these returns a new instance with the metadata kept in sync."
   ]
  },
  {
   "cell_type": "code",
   "execution_count": 9,
   "id": "88229d13",
   "metadata": {},
   "outputs": [
    {
     "data": {
      "text/plain": [
       "array([[1., 2.],\n",
       "       [2., 3.],\n",
       "       [3., 4.],\n",
       "       [4., 5.],\n",
       "       [5., 6.],\n",
       "       [6., 7.],\n",
       "       [7., 8.],\n",
       "       [8., 9.]], dtype=float32)"
      ]
     },
     "execution_count": 9,
     "metadata": {},
     "output_type": "execute_result"
    }
   ],
   "source": [
    "intervals = [1, 2, 3, 4, 5, 6, 7, 8, 9]\n",
    "meta = { \"label\": list('abcdefghi') }\n",
    "rs = RhythmicSegments.from_intervals(intervals, length=2, meta=meta, meta_aggregator=my_aggregator)\n",
    "rs.segments"
   ]
  },
  {
   "cell_type": "code",
   "execution_count": 10,
   "id": "75ee7466",
   "metadata": {},
   "outputs": [
    {
     "data": {
      "text/plain": [
       "array([[1., 2.],\n",
       "       [2., 3.],\n",
       "       [3., 4.]], dtype=float32)"
      ]
     },
     "execution_count": 10,
     "metadata": {},
     "output_type": "execute_result"
    }
   ],
   "source": [
    "# You can do very basic indexing: select the first three segments:\n",
    "head = rs.take([0, 1, 2])\n",
    "head.segments"
   ]
  },
  {
   "cell_type": "markdown",
   "id": "cf0097ad",
   "metadata": {},
   "source": [
    "Metadata is preserved as well:"
   ]
  },
  {
   "cell_type": "code",
   "execution_count": 11,
   "id": "736be674",
   "metadata": {},
   "outputs": [
    {
     "data": {
      "text/html": [
       "<div>\n",
       "<style scoped>\n",
       "    .dataframe tbody tr th:only-of-type {\n",
       "        vertical-align: middle;\n",
       "    }\n",
       "\n",
       "    .dataframe tbody tr th {\n",
       "        vertical-align: top;\n",
       "    }\n",
       "\n",
       "    .dataframe thead th {\n",
       "        text-align: right;\n",
       "    }\n",
       "</style>\n",
       "<table border=\"1\" class=\"dataframe\">\n",
       "  <thead>\n",
       "    <tr style=\"text-align: right;\">\n",
       "      <th></th>\n",
       "      <th>label</th>\n",
       "      <th>first</th>\n",
       "    </tr>\n",
       "  </thead>\n",
       "  <tbody>\n",
       "    <tr>\n",
       "      <th>0</th>\n",
       "      <td>a-b</td>\n",
       "      <td>a</td>\n",
       "    </tr>\n",
       "    <tr>\n",
       "      <th>1</th>\n",
       "      <td>b-c</td>\n",
       "      <td>b</td>\n",
       "    </tr>\n",
       "    <tr>\n",
       "      <th>2</th>\n",
       "      <td>c-d</td>\n",
       "      <td>c</td>\n",
       "    </tr>\n",
       "  </tbody>\n",
       "</table>\n",
       "</div>"
      ],
      "text/plain": [
       "  label first\n",
       "0   a-b     a\n",
       "1   b-c     b\n",
       "2   c-d     c"
      ]
     },
     "execution_count": 11,
     "metadata": {},
     "output_type": "execute_result"
    }
   ],
   "source": [
    "head.meta"
   ]
  },
  {
   "cell_type": "markdown",
   "id": "ce98ea4f",
   "metadata": {},
   "source": [
    "You can also filter segments based on some condition. For example, selecting all segments with a certain duration:"
   ]
  },
  {
   "cell_type": "code",
   "execution_count": 12,
   "id": "3d55de38",
   "metadata": {},
   "outputs": [
    {
     "data": {
      "text/plain": [
       "array([[5., 6.],\n",
       "       [6., 7.],\n",
       "       [7., 8.],\n",
       "       [8., 9.]], dtype=float32)"
      ]
     },
     "execution_count": 12,
     "metadata": {},
     "output_type": "execute_result"
    }
   ],
   "source": [
    "rs.filter(rs.durations > 10).segments"
   ]
  },
  {
   "cell_type": "markdown",
   "id": "4e4a45ea",
   "metadata": {},
   "source": [
    "Or shuffle segments:"
   ]
  },
  {
   "cell_type": "code",
   "execution_count": 13,
   "id": "b078afda",
   "metadata": {},
   "outputs": [
    {
     "data": {
      "text/plain": [
       "array([[6., 7.],\n",
       "       [1., 2.],\n",
       "       [2., 3.],\n",
       "       [5., 6.],\n",
       "       [3., 4.],\n",
       "       [7., 8.],\n",
       "       [4., 5.],\n",
       "       [8., 9.]], dtype=float32)"
      ]
     },
     "execution_count": 13,
     "metadata": {},
     "output_type": "execute_result"
    }
   ],
   "source": [
    "rs.shuffle(random_state=1).segments"
   ]
  },
  {
   "cell_type": "markdown",
   "id": "ed2f1179",
   "metadata": {},
   "source": [
    "Finally, you can query metadata using pandas query syntax. For example, selecting all segments whose label contains the letter 'b':"
   ]
  },
  {
   "cell_type": "code",
   "execution_count": 14,
   "id": "b16b8e99",
   "metadata": {},
   "outputs": [
    {
     "data": {
      "text/html": [
       "<div>\n",
       "<style scoped>\n",
       "    .dataframe tbody tr th:only-of-type {\n",
       "        vertical-align: middle;\n",
       "    }\n",
       "\n",
       "    .dataframe tbody tr th {\n",
       "        vertical-align: top;\n",
       "    }\n",
       "\n",
       "    .dataframe thead th {\n",
       "        text-align: right;\n",
       "    }\n",
       "</style>\n",
       "<table border=\"1\" class=\"dataframe\">\n",
       "  <thead>\n",
       "    <tr style=\"text-align: right;\">\n",
       "      <th></th>\n",
       "      <th>label</th>\n",
       "      <th>first</th>\n",
       "    </tr>\n",
       "  </thead>\n",
       "  <tbody>\n",
       "    <tr>\n",
       "      <th>0</th>\n",
       "      <td>a-b</td>\n",
       "      <td>a</td>\n",
       "    </tr>\n",
       "    <tr>\n",
       "      <th>1</th>\n",
       "      <td>b-c</td>\n",
       "      <td>b</td>\n",
       "    </tr>\n",
       "  </tbody>\n",
       "</table>\n",
       "</div>"
      ],
      "text/plain": [
       "  label first\n",
       "0   a-b     a\n",
       "1   b-c     b"
      ]
     },
     "execution_count": 14,
     "metadata": {},
     "output_type": "execute_result"
    }
   ],
   "source": [
    "rs.query(\"label.str.contains('b')\").meta"
   ]
  }
 ],
 "metadata": {
  "kernelspec": {
   "display_name": "rhythmic-segments-py3.11",
   "language": "python",
   "name": "python3"
  },
  "language_info": {
   "codemirror_mode": {
    "name": "ipython",
    "version": 3
   },
   "file_extension": ".py",
   "mimetype": "text/x-python",
   "name": "python",
   "nbconvert_exporter": "python",
   "pygments_lexer": "ipython3",
   "version": "3.11.13"
  }
 },
 "nbformat": 4,
 "nbformat_minor": 5
}
